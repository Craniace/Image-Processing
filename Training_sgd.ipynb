{
 "cells": [
  {
   "cell_type": "code",
   "execution_count": 1,
   "id": "d9ba1fcb-2f06-46ed-839c-18dfa5d61a11",
   "metadata": {},
   "outputs": [
    {
     "name": "stdout",
     "output_type": "stream",
     "text": [
      "Tensor Flow Version: 2.12.0\n",
      "numpy Version: 1.23.5\n"
     ]
    }
   ],
   "source": [
    "# import necessary package\n",
    "import tensorflow as tf\n",
    "import numpy as np\n",
    "import pathlib\n",
    "import datetime\n",
    "\n",
    "# printout versions\n",
    "print(f\"Tensor Flow Version: {tf.__version__}\")\n",
    "print(f\"numpy Version: {np.version.version}\")"
   ]
  },
  {
   "cell_type": "code",
   "execution_count": 2,
   "id": "df2b3336-b947-4e27-a8aa-14b82ac7f42a",
   "metadata": {},
   "outputs": [
    {
     "name": "stdout",
     "output_type": "stream",
     "text": [
      "Total Training number of images: 4800\n",
      "Total Testing number of images: 1200\n",
      "Class names: ['new glioma after deleting' 'new meningioma after deleting'\n",
      " 'new notumor after deleting' 'new pituitary after deleting']\n",
      "Number of output units: 4\n"
     ]
    }
   ],
   "source": [
    "# Raw Dataset Directory\n",
    "data_dir = pathlib.Path(\"./alexnetnew/80% of training image/\")\n",
    "image_count = len(list(data_dir.glob('*/*.jpg')))\n",
    "print(\"Total Training number of images:\", image_count)\n",
    "\n",
    "data_dir = pathlib.Path(\"./alexnetnew/20% of testing image/\")\n",
    "image_count = len(list(data_dir.glob('*/*.jpg')))\n",
    "print(\"Total Testing number of images:\", image_count)\n",
    "\n",
    "# class names in the dataset specified\n",
    "CLASS_NAMES = np.array([item.name for item in data_dir.glob('*') if item.name != \"LICENSE.txt\"])\n",
    "print(\"Class names:\", CLASS_NAMES)\n",
    "\n",
    "# print length of class names\n",
    "output_class_units = len(CLASS_NAMES)\n",
    "print(\"Number of output units:\", output_class_units)"
   ]
  },
  {
   "cell_type": "code",
   "execution_count": 3,
   "id": "5cd85a13-2ef7-4e0e-bc20-456452f44aa7",
   "metadata": {},
   "outputs": [],
   "source": [
    "\n",
    "model = tf.keras.models.Sequential([\n",
    "    # 1st Convolutional Layer\n",
    "  tf.keras.layers.Conv2D(96, (11,11),strides=(4,4), activation='relu', input_shape=(227, 227, 3)),\n",
    "  tf.keras.layers.BatchNormalization(),\n",
    "  tf.keras.layers.MaxPooling2D(2, strides=(2,2)),\n",
    "    # 2nd conv\n",
    "  tf.keras.layers.Conv2D(256, (11,11),strides=(1,1), activation='relu',padding=\"same\"),\n",
    "  tf.keras.layers.BatchNormalization(),\n",
    "     # 3rd conv\n",
    "  tf.keras.layers.Conv2D(384, (3,3),strides=(1,1), activation='relu',padding=\"same\"),\n",
    "  tf.keras.layers.BatchNormalization(),\n",
    "    # 4th conv\n",
    "  tf.keras.layers.Conv2D(384, (3,3),strides=(1,1), activation='relu',padding=\"same\"),\n",
    "  tf.keras.layers.BatchNormalization(),\n",
    "    # 5th Conv\n",
    "  tf.keras.layers.Conv2D(256, (3, 3), strides=(1, 1), activation='relu',padding=\"same\"),\n",
    "  tf.keras.layers.BatchNormalization(),\n",
    "  tf.keras.layers.MaxPooling2D(2, strides=(2, 2)),\n",
    "  # To Flatten layer\n",
    "  tf.keras.layers.Flatten(),\n",
    "  # Fully connected Layer 1\n",
    "  tf.keras.layers.Dense(4096, activation='relu'),\n",
    "    # add dropout 0.5 ==> tf.keras.layers.Dropout(0.5),\n",
    "  #To FC layer 2\n",
    "  tf.keras.layers.Dense(4096, activation='relu'),\n",
    "    \n",
    "    # Output Layer\n",
    "    # add dropout 0.5 ==> tf.keras.layers.Dropout(0.5),\n",
    "  tf.keras.layers.Dense(output_class_units, activation='softmax')\n",
    "])"
   ]
  },
  {
   "cell_type": "code",
   "execution_count": 4,
   "id": "766fd224-5e79-4aa6-afcb-4c7a0eafe8c8",
   "metadata": {},
   "outputs": [
    {
     "name": "stdout",
     "output_type": "stream",
     "text": [
      "Found 1200 images belonging to 4 classes.\n"
     ]
    }
   ],
   "source": [
    "# Define input shape parameters\n",
    "BATCH_SIZE = 32       # Batch size for training\n",
    "IMG_HEIGHT = 227       # Height of the input images\n",
    "IMG_WIDTH = 227        # Width of the input images\n",
    "\n",
    "# Calculate steps per epoch\n",
    "STEPS_PER_EPOCH = np.ceil(image_count / BATCH_SIZE)\n",
    "\n",
    "# Preprocess the images\n",
    "image_generator = tf.keras.preprocessing.image.ImageDataGenerator(rescale=1./255)\n",
    "\n",
    "# Generate training data batches\n",
    "train_data_gen = image_generator.flow_from_directory(\n",
    "    directory=str(data_dir),\n",
    "    batch_size=BATCH_SIZE,\n",
    "    shuffle=True,\n",
    "    target_size=(IMG_HEIGHT, IMG_WIDTH),\n",
    "    classes=list(CLASS_NAMES)\n",
    ")"
   ]
  },
  {
   "cell_type": "code",
   "execution_count": 5,
   "id": "b6519785-43d0-44c9-aa9e-74d94db49dd1",
   "metadata": {},
   "outputs": [
    {
     "name": "stdout",
     "output_type": "stream",
     "text": [
      "Model: \"sequential\"\n",
      "_________________________________________________________________\n",
      " Layer (type)                Output Shape              Param #   \n",
      "=================================================================\n",
      " conv2d (Conv2D)             (None, 55, 55, 96)        34944     \n",
      "                                                                 \n",
      " batch_normalization (BatchN  (None, 55, 55, 96)       384       \n",
      " ormalization)                                                   \n",
      "                                                                 \n",
      " max_pooling2d (MaxPooling2D  (None, 27, 27, 96)       0         \n",
      " )                                                               \n",
      "                                                                 \n",
      " conv2d_1 (Conv2D)           (None, 27, 27, 256)       2973952   \n",
      "                                                                 \n",
      " batch_normalization_1 (Batc  (None, 27, 27, 256)      1024      \n",
      " hNormalization)                                                 \n",
      "                                                                 \n",
      " conv2d_2 (Conv2D)           (None, 27, 27, 384)       885120    \n",
      "                                                                 \n",
      " batch_normalization_2 (Batc  (None, 27, 27, 384)      1536      \n",
      " hNormalization)                                                 \n",
      "                                                                 \n",
      " conv2d_3 (Conv2D)           (None, 27, 27, 384)       1327488   \n",
      "                                                                 \n",
      " batch_normalization_3 (Batc  (None, 27, 27, 384)      1536      \n",
      " hNormalization)                                                 \n",
      "                                                                 \n",
      " conv2d_4 (Conv2D)           (None, 27, 27, 256)       884992    \n",
      "                                                                 \n",
      " batch_normalization_4 (Batc  (None, 27, 27, 256)      1024      \n",
      " hNormalization)                                                 \n",
      "                                                                 \n",
      " max_pooling2d_1 (MaxPooling  (None, 13, 13, 256)      0         \n",
      " 2D)                                                             \n",
      "                                                                 \n",
      " flatten (Flatten)           (None, 43264)             0         \n",
      "                                                                 \n",
      " dense (Dense)               (None, 4096)              177213440 \n",
      "                                                                 \n",
      " dense_1 (Dense)             (None, 4096)              16781312  \n",
      "                                                                 \n",
      " dense_2 (Dense)             (None, 4)                 16388     \n",
      "                                                                 \n",
      "=================================================================\n",
      "Total params: 200,123,140\n",
      "Trainable params: 200,120,388\n",
      "Non-trainable params: 2,752\n",
      "_________________________________________________________________\n"
     ]
    }
   ],
   "source": [
    "# # Specifying the optimizer, Loss function for optimization & Metrics to be displayed\n",
    "# model.compile(optimizer='sgd', loss=\"categorical_crossentropy\", metrics=['accuracy'])\n",
    "\n",
    "# # Summarizing the model architecture and printing it out\n",
    "# model.summary()\n",
    "\n",
    "\n",
    "# Added Learning Rate and sgd optimizer\n",
    "\n",
    "# Compile the model with SGD optimizer and learning rate\n",
    "learning_rate = 0.0001  # (change) Learning rate for the SGD optimizer\n",
    "sgd_optimizer = tf.keras.optimizers.SGD(learning_rate=learning_rate, momentum=0.9)\n",
    "model.compile(optimizer=sgd_optimizer, loss=\"categorical_crossentropy\", metrics=['accuracy'])\n",
    "\n",
    "# Print model summary\n",
    "model.summary()"
   ]
  },
  {
   "cell_type": "code",
   "execution_count": 6,
   "id": "a04aaafb-d431-40f5-bb1d-74d7b05f8385",
   "metadata": {},
   "outputs": [],
   "source": [
    "# Define custom callback to stop training\n",
    "class myCallback(tf.keras.callbacks.Callback):\n",
    "    def on_epoch_end(self, epoch, logs={}):\n",
    "        if logs.get(\"accuracy\") == 1.0 and logs.get(\"loss\") < 0.03:\n",
    "            print(\"\\nReached 100% accuracy so stopping training\")\n",
    "            self.model.stop_training = True\n",
    "\n",
    "callbacks = myCallback()\n",
    "\n",
    "# Setup TensorBoard callback\n",
    "log_dir = \"logs\\\\fit\\\\\" + datetime.datetime.now().strftime(\"%Y%m%d-%H%M%S\")\n",
    "tensorboard_callback = tf.keras.callbacks.TensorBoard(log_dir=log_dir, histogram_freq=0)"
   ]
  },
  {
   "cell_type": "code",
   "execution_count": 7,
   "id": "0a14fe85-123f-4df5-8c9d-ae61849f6325",
   "metadata": {},
   "outputs": [
    {
     "name": "stdout",
     "output_type": "stream",
     "text": [
      "Epoch 1/10\n",
      "38/38 [==============================] - 498s 13s/step - loss: 0.8583 - accuracy: 0.6500\n",
      "Epoch 2/10\n",
      "38/38 [==============================] - 491s 13s/step - loss: 0.3104 - accuracy: 0.8883\n",
      "Epoch 3/10\n",
      "38/38 [==============================] - 499s 13s/step - loss: 0.1363 - accuracy: 0.9667\n",
      "Epoch 4/10\n",
      "38/38 [==============================] - 491s 13s/step - loss: 0.0582 - accuracy: 0.9917\n",
      "Epoch 5/10\n",
      "38/38 [==============================] - 496s 13s/step - loss: 0.0405 - accuracy: 1.0000\n",
      "Epoch 6/10\n",
      "38/38 [==============================] - ETA: 0s - loss: 0.0212 - accuracy: 1.0000 \n",
      "Reached 100% accuracy so stopping training\n",
      "38/38 [==============================] - 490s 13s/step - loss: 0.0212 - accuracy: 1.0000\n"
     ]
    }
   ],
   "source": [
    "# Train the model\n",
    "history = model.fit(\n",
    "    train_data_gen,\n",
    "    steps_per_epoch=STEPS_PER_EPOCH,\n",
    "    epochs=10,\n",
    "    callbacks=[tensorboard_callback, callbacks]\n",
    ")\n",
    "\n",
    "# Save the entire model\n",
    "model.save('AlexNet_saved_model.h5')"
   ]
  },
  {
   "cell_type": "code",
   "execution_count": null,
   "id": "eca8690a-9efb-44a4-8197-3b168398ab3b",
   "metadata": {},
   "outputs": [],
   "source": []
  },
  {
   "cell_type": "code",
   "execution_count": null,
   "id": "283b4d9e-644f-4eb4-b631-6f037145d161",
   "metadata": {},
   "outputs": [],
   "source": []
  }
 ],
 "metadata": {
  "kernelspec": {
   "display_name": "Python 3 (ipykernel)",
   "language": "python",
   "name": "python3"
  },
  "language_info": {
   "codemirror_mode": {
    "name": "ipython",
    "version": 3
   },
   "file_extension": ".py",
   "mimetype": "text/x-python",
   "name": "python",
   "nbconvert_exporter": "python",
   "pygments_lexer": "ipython3",
   "version": "3.11.4"
  }
 },
 "nbformat": 4,
 "nbformat_minor": 5
}
