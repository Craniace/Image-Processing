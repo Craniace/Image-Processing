{
 "cells": [
  {
   "cell_type": "code",
   "execution_count": 10,
   "id": "1a5635ea-ff3d-4c67-a212-fa2bf3783c85",
   "metadata": {},
   "outputs": [],
   "source": [
    "import os\n",
    "import cv2\n",
    "import numpy as np"
   ]
  },
  {
   "cell_type": "code",
   "execution_count": 11,
   "id": "f71b8679-061f-4cc7-a1ad-a43c5eda829b",
   "metadata": {},
   "outputs": [],
   "source": [
    "# Function to perform rotation and flipping augmentation\n",
    "def rotate_and_flip(image, output_folder, image_name, num_augmented_images):\n",
    "    # Rotate 90 degrees clockwise\n",
    "    rotated_90 = cv2.rotate(image, cv2.ROTATE_90_CLOCKWISE)\n",
    "    \n",
    "    # Rotate 180 degrees\n",
    "    rotated_180 = cv2.rotate(image, cv2.ROTATE_180)\n",
    "    \n",
    "    # Flip horizontally\n",
    "    flipped_horizontal = cv2.flip(image, 1)\n",
    "    \n",
    "    # Flip vertically\n",
    "    flipped_vertical = cv2.flip(image, 0)\n",
    "    \n",
    "    # Save augmented images\n",
    "    \n",
    "    # Save the rotated 90 degrees image\n",
    "    cv2.imwrite(os.path.join(output_folder, f'{image_name}_rotated_90.jpg'), rotated_90)\n",
    "    \n",
    "    # Save the rotated 180 degrees image\n",
    "    cv2.imwrite(os.path.join(output_folder, f'{image_name}_rotated_180.jpg'), rotated_180)\n",
    "    \n",
    "    # Save the horizontally flipped image\n",
    "    cv2.imwrite(os.path.join(output_folder, f'{image_name}_flipped_horizontal.jpg'), flipped_horizontal)\n",
    "    \n",
    "    # Save the vertically flipped image\n",
    "    cv2.imwrite(os.path.join(output_folder, f'{image_name}_flipped_vertical.jpg'), flipped_vertical)\n",
    "\n",
    "    # You can also save more augmented images if needed\n",
    "    # for i in range(num_augmented_images):\n",
    "    #     # Implement additional augmentation here if needed\n",
    "    #     pass"
   ]
  },
  {
   "cell_type": "code",
   "execution_count": 12,
   "id": "93c3a950-a720-4612-871a-4172b060a2b6",
   "metadata": {},
   "outputs": [],
   "source": [
    "# Example usage:\n",
    "\n",
    "# Path to the input folder containing images to be augmented\n",
    "input_folder = 'D:/RESEARCH D/alexnetnew/80% of training image/new glioma after deleting'\n",
    "\n",
    "# Path to the output folder where augmented images will be saved\n",
    "output_folder = 'output_images'\n",
    "\n",
    "# Number of augmented images to be created for each input image\n",
    "num_augmented_images = 5"
   ]
  },
  {
   "cell_type": "code",
   "execution_count": 13,
   "id": "c7a9d2aa-ab2d-4b99-96e8-f7deda393713",
   "metadata": {},
   "outputs": [],
   "source": [
    "# Create output folder if it doesn't exist\n",
    "if not os.path.exists(output_folder):\n",
    "    os.makedirs(output_folder)\n",
    "\n",
    "# Loop through all images in the input folder\n",
    "for filename in os.listdir(input_folder):\n",
    "    # Filter image files\n",
    "    if filename.endswith(('.jpg', '.png', '.jpeg')):\n",
    "        # Load image\n",
    "        image_path = os.path.join(input_folder, filename)\n",
    "        image = cv2.imread(image_path)\n",
    "        \n",
    "        # Perform augmentation and save augmented images\n",
    "        image_name = os.path.splitext(filename)[0]  # Get image name without extension\n",
    "        rotate_and_flip(image, output_folder, image_name, num_augmented_images)"
   ]
  },
  {
   "cell_type": "code",
   "execution_count": null,
   "id": "e8e2d7cf-6ee4-42b2-8f0f-c6231e1900cc",
   "metadata": {},
   "outputs": [],
   "source": []
  }
 ],
 "metadata": {
  "kernelspec": {
   "display_name": "Python 3 (ipykernel)",
   "language": "python",
   "name": "python3"
  },
  "language_info": {
   "codemirror_mode": {
    "name": "ipython",
    "version": 3
   },
   "file_extension": ".py",
   "mimetype": "text/x-python",
   "name": "python",
   "nbconvert_exporter": "python",
   "pygments_lexer": "ipython3",
   "version": "3.11.4"
  }
 },
 "nbformat": 4,
 "nbformat_minor": 5
}
