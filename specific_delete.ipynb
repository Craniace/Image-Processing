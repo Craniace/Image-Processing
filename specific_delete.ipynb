{
 "cells": [
  {
   "cell_type": "code",
   "execution_count": 2,
   "id": "f21b1203-52f4-4e88-808b-21ecc9c48b36",
   "metadata": {},
   "outputs": [
    {
     "name": "stdout",
     "output_type": "stream",
     "text": [
      "Deleted 15 images.\n"
     ]
    }
   ],
   "source": [
    "import os\n",
    "# Generate test data batches\n",
    "def delete_images(image_list):\n",
    "    deleted_count = 0\n",
    "    for image_path in image_list:\n",
    "        try:\n",
    "            os.remove(image_path)\n",
    "            deleted_count += 1\n",
    "        except FileNotFoundError:\n",
    "            print(f\"File not found: {image_path}\")\n",
    "    print(f\"Deleted {deleted_count} images.\")\n",
    "\n",
    "# List of image paths to delete\n",
    "images_to_delete = [\"notumor\\Te-no_0031.jpg\",\n",
    "\"notumor\\Te-no_0034.jpg\",\n",
    "\"notumor\\Te-no_0035.jpg\",\n",
    "\"notumor\\Te-no_0036.jpg\",\n",
    "\"notumor\\Te-no_0061.jpg\",\n",
    "\"notumor\\Te-no_0073.jpg\",\n",
    "\"notumor\\Te-no_0078.jpg\",\n",
    "\"notumor\\Te-no_0085.jpg\",\n",
    "\"notumor\\Te-no_0097.jpg\",\n",
    "\"notumor\\Te-no_0102.jpg\",\n",
    "\"notumor\\Te-no_0107.jpg\",\n",
    "\"notumor\\Te-no_0112.jpg\",\n",
    "\"notumor\\Te-no_0116.jpg\",\n",
    "\"notumor\\Te-no_0149.jpg\",\n",
    "\"notumor\\Te-no_0182.jpg\",\n",
    "]\n",
    "\n",
    "# Call the function to delete the images\n",
    "delete_images(images_to_delete)\n"
   ]
  },
  {
   "cell_type": "code",
   "execution_count": null,
   "id": "5e38abd1-5dda-43c3-b948-98f52921cce3",
   "metadata": {},
   "outputs": [],
   "source": []
  },
  {
   "cell_type": "code",
   "execution_count": null,
   "id": "fc42eebb-bffc-4324-8f59-1f3f2cbda768",
   "metadata": {},
   "outputs": [],
   "source": []
  }
 ],
 "metadata": {
  "kernelspec": {
   "display_name": "Python 3 (ipykernel)",
   "language": "python",
   "name": "python3"
  },
  "language_info": {
   "codemirror_mode": {
    "name": "ipython",
    "version": 3
   },
   "file_extension": ".py",
   "mimetype": "text/x-python",
   "name": "python",
   "nbconvert_exporter": "python",
   "pygments_lexer": "ipython3",
   "version": "3.11.4"
  }
 },
 "nbformat": 4,
 "nbformat_minor": 5
}
